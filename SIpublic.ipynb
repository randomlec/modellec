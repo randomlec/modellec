{
 "cells": [
  {
   "cell_type": "markdown",
   "metadata": {},
   "source": [
    "Hi students! Press on the play button above, wait for a few seconds and start playing with your model Solow economy with population growth and no technological progress."
   ]
  },
  {
   "cell_type": "code",
   "execution_count": 9,
   "metadata": {},
   "outputs": [
    {
     "data": {
      "application/vnd.jupyter.widget-view+json": {
       "model_id": "49f7bd47fb69446cad8e92c31f03ca93",
       "version_major": 2,
       "version_minor": 0
      },
      "text/plain": [
       "interactive(children=(FloatSlider(value=0.30000000000000004, description='α', max=0.5, min=0.2, step=0.05), Fl…"
      ]
     },
     "metadata": {},
     "output_type": "display_data"
    }
   ],
   "source": [
    "import matplotlib\n",
    "import numpy as np\n",
    "from ipywidgets import interact, interactive, fixed, interact_manual\n",
    "import ipywidgets as widgets\n",
    "from IPython.display import display\n",
    "import numpy as np\n",
    "import matplotlib.pyplot as plt\n",
    "plt.rcParams['text.usetex'] = True\n",
    "%matplotlib inline\n",
    "I    = 1000\n",
    "kmax = 10\n",
    "k    = np.linspace(0.001,kmax,I)\n",
    "def sfandy(k,α,z,s,δ,n):\n",
    "    r   = s*z*k**α\n",
    "    y   = r/s\n",
    "    cons= y-r\n",
    "    kss = (s*z/(δ+n))**(1/(1-α))\n",
    "    yss = z*kss**α\n",
    "    css = yss-(δ+n)*kss\n",
    "    mpk = α*y/k\n",
    "    mpkss=α*yss/kss\n",
    "    sstar= ((z*(z/(δ+n))**((α-1)/(1-α)))*α/(δ+n)) # α is the cons max s rate\n",
    "    ystar= z*(sstar*z/(δ+n))**(α/(1-α))\n",
    "    x   = np.linspace(0.01,0.9,20)\n",
    "    cstars = z*(x*z/(δ+n))**(α/(1-α))-(δ+n)*(x*z/(δ+n))**(1/(1-α))\n",
    "    kstars = (x*z/(δ+n))**(1/(1-α))\n",
    "    kstar  = (sstar*z/(δ+n))**(1/(1-α))\n",
    "    cstar  = ystar*(1-sstar)\n",
    "    mpkstar=α*ystar/kstar\n",
    "    f, (ax1, ax2) = plt.subplots(1, 2, sharey=True,figsize=(14,8))\n",
    "    ax1.plot(k,k*(n+δ),c='orange',lw=3)\n",
    "    ax1.plot(k,r,c='b',lw=3)\n",
    "    ax1.scatter(kss, kss*(n+δ), c='k', edgecolor='none',s=200,alpha=0.75)\n",
    "    ax1.set_ylim(0,5)\n",
    "    ax1.set_xlim(0,kmax)\n",
    "    ax1.set_xlabel('Capital per person',fontsize=20)\n",
    "    ax1.set_ylabel('Savings and effective depreciation',fontsize=20)\n",
    "    ax1.set_alpha(0.05)\n",
    "    ax1.scatter(kss, kss*(n+δ)+0.2, color = 'gray', marker = \"v\", s=40)\n",
    "    ax1.annotate('$k^*$', (kss-0.05,kss*(n+δ)+0.35),size=25)\n",
    "    ax2.plot(k,y,c='gray',lw=3,alpha=0.25)\n",
    "    ax1.fill_between(k,r,y,facecolor='gray',alpha=0.15)\n",
    "    ax1.grid(True)\n",
    "    ax2.plot(k,y,c='orange',lw=3)\n",
    "    ax2.plot(k,cons,c='b',lw=3)\n",
    "    ax2.set_ylim(0,5)\n",
    "    ax2.set_xlim(0,kmax)\n",
    "    ax2.set_xlabel('Capital per person',fontsize=20)\n",
    "    ax2.set_ylabel('Output and consumption per person',fontsize=20)\n",
    "    ax2.scatter(kss, css, c='k', edgecolor='none',s=200,alpha=0.75)\n",
    "    ax2.plot(k,k*(n+δ),c='gray',lw=3,alpha=0.25)\n",
    "    ax2.plot(kstars,cstars,'--',c='gray',lw=3,alpha=0.5)\n",
    "    ax2.plot(k,ystar+(k-kstar)*(n+δ),'--',c='gray',lw=3,alpha=0.25)\n",
    "    ax2.scatter(kss, css+0.2, color = 'gray', marker = \"v\", s=40)\n",
    "    ax2.annotate('$c^*$', (kss-0.1,css+0.35),size=25)\n",
    "    #ax2.annotate('$c_{max}^*$', (kstar-0.1,cstar+0.35),size=25)\n",
    "    ax2.scatter(kstar, cstar, color = 'black', marker = \"*\", s=50)\n",
    "    message = \"The savings rate maximising consumption is = %f\\n\" % sstar\n",
    "    print(message)\n",
    "    ax2.grid(True)\n",
    "    plt.show()\n",
    "    return (r)\n",
    "im=interactive(sfandy,k=fixed(k),α=(0.2,0.5,0.05),z=(0.8,2,0.1),s=(0.01,0.9,0.05),δ=(0.01,0.5,0.05),n=(0.01,0.5,0.05))\n",
    "display(im)"
   ]
  },
  {
   "cell_type": "markdown",
   "metadata": {},
   "source": [
    "The gray area on the figure to the left is output per capita net of savings per capita. The blue curve is savings per capita while the yellow line is the effective depreciation line $(\\delta + n)k$. When this to lines cross we have a steady state because all investment equals effective depreciation, i.e. the per capita capital stock does not change. On the right hand side figure we have output $y$ and consumption $c$ per capita in yellow and blue, respectively. Steady state consumption is maxed when the effective depreciation line (solid line on gray, starting from the origin) is parallel to the slope of production function in intensive form at its steady state $y^*=f(k^*)=zk^{*^\\alpha}$. The grey dashed curve illustrates the locus of steady state consumption, with a peak at the black star symbol, denoting $c_{max}^*$."
   ]
  },
  {
   "cell_type": "code",
   "execution_count": null,
   "metadata": {},
   "outputs": [],
   "source": []
  }
 ],
 "metadata": {
  "kernelspec": {
   "display_name": "Python 3",
   "language": "python",
   "name": "python3"
  },
  "language_info": {
   "codemirror_mode": {
    "name": "ipython",
    "version": 3
   },
   "file_extension": ".py",
   "mimetype": "text/x-python",
   "name": "python",
   "nbconvert_exporter": "python",
   "pygments_lexer": "ipython3",
   "version": "3.6.5"
  }
 },
 "nbformat": 4,
 "nbformat_minor": 2
}
