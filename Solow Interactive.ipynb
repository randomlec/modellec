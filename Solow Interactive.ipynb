{
 "cells": [
  {
   "cell_type": "code",
   "execution_count": 1,
   "metadata": {},
   "outputs": [
    {
     "data": {
      "application/vnd.jupyter.widget-view+json": {
       "model_id": "acb38c83a4734f89bad35578f8227695",
       "version_major": 2,
       "version_minor": 0
      },
      "text/plain": [
       "interactive(children=(FloatSlider(value=0.30000000000000004, description='α', max=0.5, min=0.2, step=0.05), Fl…"
      ]
     },
     "metadata": {},
     "output_type": "display_data"
    }
   ],
   "source": [
    "from ipywidgets import interact, interactive, fixed, interact_manual\n",
    "import ipywidgets as widgets\n",
    "from IPython.display import display\n",
    "import numpy as np\n",
    "import matplotlib.pyplot as plt\n",
    "plt.rcParams['text.usetex'] = True\n",
    "#%matplotlib inline\n",
    "from scipy.optimize import curve_fit as cf\n",
    "I    = 1000\n",
    "kmax = 8\n",
    "k    = np.linspace(0.001,kmax,I)\n",
    "def sf(k,α,z,s,δ,n):\n",
    "    r=s*z*k**α\n",
    "    plt.figure(figsize=(10,8))\n",
    "    plt.plot(k,k*(n+δ),c='orange',lw=3)\n",
    "    plt.plot(k,r,c='b',lw=3)\n",
    "    #plt.set_ylim([0,12])\n",
    "    plt.xlabel("Capital",fontsize=18)\n",
    "    plt.ylabel('Savings and effective depreciation',fontsize=18)\n",
    "    plt.grid(True)\n",
    "    plt.show()\n",
    "    return (r)\n",
    "y=interactive(sf,k=fixed(k),α=(0.2,0.5,0.05),z=(0.8,1.8,0.1),s=(0.01,0.7,0.05),δ=(0,0.5,0.05),n=(0.01,0.5,0.05))\n",
    "display(y)"
   ]
  },
  {
   "cell_type": "code",
   "execution_count": null,
   "metadata": {},
   "outputs": [],
   "source": []
  }
 ],
 "metadata": {
  "kernelspec": {
   "display_name": "Python 3",
   "language": "python",
   "name": "python3"
  },
  "language_info": {
   "codemirror_mode": {
    "name": "ipython",
    "version": 3
   },
   "file_extension": ".py",
   "mimetype": "text/x-python",
   "name": "python",
   "nbconvert_exporter": "python",
   "pygments_lexer": "ipython3",
   "version": "3.6.5"
  }
 },
 "nbformat": 4,
 "nbformat_minor": 2
}
